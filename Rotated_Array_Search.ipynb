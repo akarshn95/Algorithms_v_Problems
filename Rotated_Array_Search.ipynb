{
 "cells": [
  {
   "cell_type": "code",
   "execution_count": 14,
   "metadata": {},
   "outputs": [
    {
     "name": "stdout",
     "output_type": "stream",
     "text": [
      "Pass\n",
      "Pass\n",
      "Pass\n",
      "Pass\n",
      "Pass\n"
     ]
    }
   ],
   "source": [
    "def find_pivot(input_list):\n",
    "    start=0\n",
    "    end=len(input_list)-1\n",
    "    \n",
    "    while start<=end:\n",
    "        mid=(start+end)//2\n",
    "        if input_list[mid]>input_list[mid+1]:\n",
    "            return mid+1\n",
    "        if input_list[start]<input_list[mid]:\n",
    "            start=mid+1\n",
    "        else:\n",
    "            end=mid-1\n",
    "    \n",
    "\n",
    "def rotated_array_search(input_list, number):\n",
    "    \"\"\"\n",
    "    Find the index by searching in a rotated sorted array\n",
    "\n",
    "    Args:\n",
    "       input_list(array), number(int): Input array to search and the target\n",
    "    Returns:\n",
    "       int: Index or -1\n",
    "    \"\"\"\n",
    "    start=0\n",
    "    end=len(input_list)-1\n",
    "    ans=-1\n",
    "    \n",
    "    pivot=find_pivot(input_list)\n",
    "    if input_list[pivot]==number:\n",
    "        return pivot\n",
    "    if number<input_list[pivot]:\n",
    "        return ans\n",
    "    elif input_list[pivot]<number<input_list[end]:\n",
    "        ans=binary_search(input_list,pivot,end,number)\n",
    "    elif number>input_list[pivot] and number<=input_list[pivot-1]:\n",
    "        ans=binary_search(input_list,start,pivot-1,number)\n",
    "    return ans\n",
    "    \n",
    "def binary_search(input_list,start,end,num):\n",
    "    \n",
    "    while start<=end:\n",
    "        mid=(start+end)//2\n",
    "        if num==input_list[mid]:\n",
    "            return mid\n",
    "        if num>input_list[mid]:\n",
    "            start=mid+1\n",
    "        else:\n",
    "            end=mid-1\n",
    "    \n",
    "    return -1\n",
    "   \n",
    "def linear_search(input_list, number):\n",
    "    for index, element in enumerate(input_list):\n",
    "        if element == number:\n",
    "            return index\n",
    "    return -1\n",
    "\n",
    "def test_function(test_case):\n",
    "    input_list = test_case[0]\n",
    "    number = test_case[1]\n",
    "    if linear_search(input_list, number) == rotated_array_search(input_list, number):\n",
    "        print(\"Pass\")\n",
    "    else:\n",
    "        print(\"Fail\")\n",
    "\n",
    "test_function([[6, 7, 8, 9, 10, 1, 2, 3, 4], 6])\n",
    "test_function([[6, 7, 8, 9, 10, 1, 2, 3, 4], 1])\n",
    "test_function([[6, 7, 8, 1, 2, 3, 4], 8])\n",
    "test_function([[6, 7, 8, 1, 2, 3, 4], 1])\n",
    "test_function([[6, 7, 8, 1, 2, 3, 4], 10])"
   ]
  }
 ],
 "metadata": {
  "kernelspec": {
   "display_name": "Python 3",
   "language": "python",
   "name": "python3"
  },
  "language_info": {
   "codemirror_mode": {
    "name": "ipython",
    "version": 3
   },
   "file_extension": ".py",
   "mimetype": "text/x-python",
   "name": "python",
   "nbconvert_exporter": "python",
   "pygments_lexer": "ipython3",
   "version": "3.7.4"
  }
 },
 "nbformat": 4,
 "nbformat_minor": 2
}

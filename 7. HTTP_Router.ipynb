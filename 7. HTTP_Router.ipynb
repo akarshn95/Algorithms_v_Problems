{
 "cells": [
  {
   "cell_type": "code",
   "execution_count": 1,
   "metadata": {},
   "outputs": [
    {
     "name": "stdout",
     "output_type": "stream",
     "text": [
      "root handler\n",
      "not found handler\n",
      "about handler\n",
      "about handler\n",
      "not found handler\n"
     ]
    }
   ],
   "source": [
    "class RouteTrieNode:\n",
    "    def __init__(self):\n",
    "        self.children = {}\n",
    "        self.handler = None\n",
    "        \n",
    "    def insert(self, route):\n",
    "        if route not in self.children:\n",
    "            self.children[route] = RouteTrieNode()\n",
    "\n",
    "class RouteTrie:\n",
    "    def __init__(self, root_handler):\n",
    "        self.root = RouteTrieNode()\n",
    "        self.root.handler = root_handler\n",
    "\n",
    "    def insert(self, route, handler, current_node = None):\n",
    "        if not current_node:\n",
    "            current_node = self.root\n",
    "\n",
    "        if len(route) == 0:\n",
    "            current_node.handler = handler\n",
    "        elif len(route) == 1:\n",
    "            current_node.insert(route[0])\n",
    "            current_node.children[route[0]].handler = handler\n",
    "        else:\n",
    "            current_node.insert(route[0])\n",
    "            self.insert(route[1:], handler, current_node.children[route[0]])\n",
    "\n",
    "    def find(self, route, current_node = None):\n",
    "        \n",
    "        if not current_node:\n",
    "            current_node = self.root\n",
    "    \n",
    "        if len(route) == 0:\n",
    "            return current_node.handler\n",
    "        else:\n",
    "            if route[0] in current_node.children:\n",
    "                return self.find(route[1:], current_node.children[route[0]])\n",
    "            else:\n",
    "                return None\n",
    "\n",
    "            \n",
    "class Router:\n",
    "    def __init__(self, root_handler, not_found_handler):\n",
    "        # Create a new RouteTrie for holding routes\n",
    "        self.route_trie = RouteTrie(root_handler)\n",
    "        self.not_found_handler = not_found_handler\n",
    "\n",
    "    def add_handler(self, path, handler):\n",
    "        #split the path\n",
    "        self.route_trie.insert(self.split_path(path), handler)\n",
    "\n",
    "    def lookup(self, path):\n",
    "        # lookup path and return the associated handler\n",
    "        handler =  self.route_trie.find(self.split_path(path))\n",
    "        return handler if handler else self.not_found_handler\n",
    "\n",
    "    def split_path(self, path):\n",
    "        split_p = path.split('/')[1:]\n",
    "        if len(split_p) == 0:\n",
    "            return [] \n",
    "        if split_p[-1] == \"\":\n",
    "            return split_p[:-1]\n",
    "        return split_p\n",
    "    \n",
    "# Here are some test cases and expected outputs you can use to test your implementation\n",
    "\n",
    "# create the router and add a route\n",
    "router = Router(\"root handler\", \"not found handler\") # remove the 'not found handler' if you did not implement this\n",
    "router.add_handler(\"/home/about\", \"about handler\")  # add a route\n",
    "\n",
    "# some lookups with the expected output\n",
    "print(router.lookup(\"/\")) # should print 'root handler'\n",
    "print(router.lookup(\"/home\")) # should print 'not found handler' or None if you did not implement one\n",
    "print(router.lookup(\"/home/about\")) # should print 'about handler'\n",
    "print(router.lookup(\"/home/about/\")) # should print 'about handler' or None if you did not handle trailing slashes\n",
    "print(router.lookup(\"/home/about/me\")) # should print 'not found handler' or None if you did not implement one"
   ]
  },
  {
   "cell_type": "code",
   "execution_count": null,
   "metadata": {},
   "outputs": [],
   "source": []
  }
 ],
 "metadata": {
  "kernelspec": {
   "display_name": "Python 3",
   "language": "python",
   "name": "python3"
  },
  "language_info": {
   "codemirror_mode": {
    "name": "ipython",
    "version": 3
   },
   "file_extension": ".py",
   "mimetype": "text/x-python",
   "name": "python",
   "nbconvert_exporter": "python",
   "pygments_lexer": "ipython3",
   "version": "3.7.4"
  }
 },
 "nbformat": 4,
 "nbformat_minor": 2
}

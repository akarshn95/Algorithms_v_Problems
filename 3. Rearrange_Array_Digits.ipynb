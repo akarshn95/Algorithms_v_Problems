{
 "cells": [
  {
   "cell_type": "code",
   "execution_count": 1,
   "metadata": {},
   "outputs": [],
   "source": [
    "def merge_sort(arr):\n",
    "    \n",
    "    if len(arr)>1:\n",
    "        mid=len(arr)//2\n",
    "        leftArr=arr[:mid]\n",
    "        rightArr=arr[mid:]\n",
    "        \n",
    "        merge_sort(leftArr)\n",
    "        merge_sort(rightArr)\n",
    "        \n",
    "        i=0\n",
    "        j=0\n",
    "        k=0\n",
    "        \n",
    "        while i<len(leftArr) and j<len(rightArr):\n",
    "            if(leftArr[i]>rightArr[j]):\n",
    "                arr[k]=leftArr[i]\n",
    "                i+=1\n",
    "            else:\n",
    "                arr[k]=rightArr[j]\n",
    "                j+=1\n",
    "            k+=1\n",
    "        \n",
    "        while i<len(leftArr):\n",
    "            arr[k]=leftArr[i]\n",
    "            i+=1\n",
    "            k+=1\n",
    "            \n",
    "        while j<len(rightArr):\n",
    "            arr[k]=rightArr[j]\n",
    "            j+=1\n",
    "            k+=1\n",
    "    return arr\n",
    "\n",
    "\n",
    "def rearrange_digits(input_list):\n",
    "    \"\"\"\n",
    "    Rearrange Array Elements so as to form two number such that their sum is maximum.\n",
    "\n",
    "    Args:\n",
    "       input_list(list): Input List\n",
    "    Returns:\n",
    "       (int),(int): Two maximum sums\n",
    "    \"\"\"\n",
    "    sorted_list=merge_sort(input_list)\n",
    "    str1=\"\"\n",
    "    str2=\"\"\n",
    "    \n",
    "    if len(input_list)<2:\n",
    "        return input_list\n",
    "        \n",
    "    for i in range(len(sorted_list)):\n",
    "        if i%2==0:\n",
    "            str1+=str(sorted_list[i])\n",
    "        else:\n",
    "            str2+=str(sorted_list[i])\n",
    "    \n",
    "    return (int(str1),int(str2))      "
   ]
  },
  {
   "cell_type": "code",
   "execution_count": 2,
   "metadata": {},
   "outputs": [
    {
     "name": "stdout",
     "output_type": "stream",
     "text": [
      "Pass\n"
     ]
    }
   ],
   "source": [
    "def test_function(test_case):\n",
    "    output = rearrange_digits(test_case[0])\n",
    "    solution = test_case[1]\n",
    "    if sum(output) == sum(solution):\n",
    "        print(\"Pass\")\n",
    "    else:\n",
    "        print(\"Fail\")\n",
    "\n",
    "test_function([[1, 2, 3, 4, 5], [542, 31]])\n",
    "test_case = [[4, 6, 2, 5, 9, 8], [964, 852]]\n"
   ]
  },
  {
   "cell_type": "code",
   "execution_count": null,
   "metadata": {},
   "outputs": [],
   "source": []
  }
 ],
 "metadata": {
  "kernelspec": {
   "display_name": "Python 3",
   "language": "python",
   "name": "python3"
  },
  "language_info": {
   "codemirror_mode": {
    "name": "ipython",
    "version": 3
   },
   "file_extension": ".py",
   "mimetype": "text/x-python",
   "name": "python",
   "nbconvert_exporter": "python",
   "pygments_lexer": "ipython3",
   "version": "3.7.4"
  }
 },
 "nbformat": 4,
 "nbformat_minor": 2
}
